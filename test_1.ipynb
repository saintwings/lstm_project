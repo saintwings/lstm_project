{
 "cells": [
  {
   "cell_type": "code",
   "execution_count": 20,
   "metadata": {},
   "outputs": [],
   "source": [
    "import numpy as np\n",
    "from numpy import hstack\n",
    "from numpy import insert\n",
    "from keras.preprocessing.sequence import TimeseriesGenerator"
   ]
  },
  {
   "cell_type": "code",
   "execution_count": 32,
   "metadata": {},
   "outputs": [
    {
     "name": "stdout",
     "output_type": "stream",
     "text": [
      "[[[1 1]\n",
      "  [2 2]\n",
      "  [3 3]\n",
      "  [4 4]\n",
      "  [5 5]]] => [[12]]\n",
      "[[[4 4]\n",
      "  [5 5]\n",
      "  [6 6]\n",
      "  [7 7]\n",
      "  [8 8]]] => [[18]]\n",
      "[[[7 7]\n",
      "  [8 8]\n",
      "  [9 9]\n",
      "  [10 10]\n",
      "  [11 11]]] => [[4]]\n",
      "[[[10 10]\n",
      "  [11 11]\n",
      "  [12 12]\n",
      "  [13 13]\n",
      "  [14 14]]] => [[10]]\n",
      "[[[13 13]\n",
      "  [14 14]\n",
      "  [15 15]\n",
      "  [16 16]\n",
      "  [17 17]]] => [[16]]\n"
     ]
    }
   ],
   "source": [
    "X1 = np.array([[1,2,3,4,5,6,7,8,9,10],[11,12,13,14,15,16,17,18,19,20]],dtype=object)\n",
    "X2 = np.array([[1,2,3,4,5,6,7,8,9,10],[11,12,13,14,15,16,17,18,19,20]],dtype=object)\n",
    "y = np.array([[2,4,6,8,10,12,14,16,18,20],[2,4,6,8,10,12,14,16,18,20]],dtype=object)\n",
    "\n",
    "X1 = np.concatenate((X1), axis=None)\n",
    "X2 = np.concatenate((X2), axis=None)\n",
    "y = np.concatenate((y), axis=None)\n",
    "\n",
    "X1 = X1.reshape((len(X1), 1))\n",
    "X2 = X2.reshape((len(X2), 1))\n",
    "y = y.reshape((len(y), 1))\n",
    "#print(y)\n",
    "\n",
    "\n",
    "dataset = hstack((X1, X2))\n",
    "\n",
    "#print(dataset)\n",
    "\n",
    "generator = TimeseriesGenerator(dataset, y, length= 5, batch_size=1,stride=3)\n",
    "for i in range(len(generator)):\n",
    "    x, y = generator[i]\n",
    "    print('%s => %s' % (x, y))\n"
   ]
  },
  {
   "cell_type": "code",
   "execution_count": 28,
   "metadata": {},
   "outputs": [
    {
     "ename": "ValueError",
     "evalue": "Data and targets have to be of same length. Data length is 10 while target length is 11",
     "output_type": "error",
     "traceback": [
      "\u001b[0;31m---------------------------------------------------------------------------\u001b[0m",
      "\u001b[0;31mValueError\u001b[0m                                Traceback (most recent call last)",
      "Cell \u001b[0;32mIn[28], line 14\u001b[0m\n\u001b[1;32m     12\u001b[0m \u001b[39m# define generator\u001b[39;00m\n\u001b[1;32m     13\u001b[0m n_input \u001b[39m=\u001b[39m \u001b[39m1\u001b[39m\n\u001b[0;32m---> 14\u001b[0m generator \u001b[39m=\u001b[39m TimeseriesGenerator(dataset, out_seq, length\u001b[39m=\u001b[39;49mn_input, batch_size\u001b[39m=\u001b[39;49m\u001b[39m1\u001b[39;49m)\n\u001b[1;32m     15\u001b[0m \u001b[39m# print each sample\u001b[39;00m\n\u001b[1;32m     16\u001b[0m \u001b[39mfor\u001b[39;00m i \u001b[39min\u001b[39;00m \u001b[39mrange\u001b[39m(\u001b[39mlen\u001b[39m(generator)):\n",
      "File \u001b[0;32m~/anaconda3/envs/tf/lib/python3.9/site-packages/keras/preprocessing/sequence.py:138\u001b[0m, in \u001b[0;36mTimeseriesGenerator.__init__\u001b[0;34m(self, data, targets, length, sampling_rate, stride, start_index, end_index, shuffle, reverse, batch_size)\u001b[0m\n\u001b[1;32m    123\u001b[0m \u001b[39mdef\u001b[39;00m \u001b[39m__init__\u001b[39m(\n\u001b[1;32m    124\u001b[0m     \u001b[39mself\u001b[39m,\n\u001b[1;32m    125\u001b[0m     data,\n\u001b[0;32m   (...)\u001b[0m\n\u001b[1;32m    134\u001b[0m     batch_size\u001b[39m=\u001b[39m\u001b[39m128\u001b[39m,\n\u001b[1;32m    135\u001b[0m ):\n\u001b[1;32m    137\u001b[0m     \u001b[39mif\u001b[39;00m \u001b[39mlen\u001b[39m(data) \u001b[39m!=\u001b[39m \u001b[39mlen\u001b[39m(targets):\n\u001b[0;32m--> 138\u001b[0m         \u001b[39mraise\u001b[39;00m \u001b[39mValueError\u001b[39;00m(\n\u001b[1;32m    139\u001b[0m             \u001b[39m\"\u001b[39m\u001b[39mData and targets have to be\u001b[39m\u001b[39m\"\u001b[39m\n\u001b[1;32m    140\u001b[0m             \u001b[39m+\u001b[39m \u001b[39mf\u001b[39m\u001b[39m\"\u001b[39m\u001b[39m of same length. Data length is \u001b[39m\u001b[39m{\u001b[39;00m\u001b[39mlen\u001b[39m(data)\u001b[39m}\u001b[39;00m\u001b[39m\"\u001b[39m\n\u001b[1;32m    141\u001b[0m             \u001b[39m+\u001b[39m \u001b[39mf\u001b[39m\u001b[39m\"\u001b[39m\u001b[39m while target length is \u001b[39m\u001b[39m{\u001b[39;00m\u001b[39mlen\u001b[39m(targets)\u001b[39m}\u001b[39;00m\u001b[39m\"\u001b[39m\n\u001b[1;32m    142\u001b[0m         )\n\u001b[1;32m    144\u001b[0m     \u001b[39mself\u001b[39m\u001b[39m.\u001b[39mdata \u001b[39m=\u001b[39m data\n\u001b[1;32m    145\u001b[0m     \u001b[39mself\u001b[39m\u001b[39m.\u001b[39mtargets \u001b[39m=\u001b[39m targets\n",
      "\u001b[0;31mValueError\u001b[0m: Data and targets have to be of same length. Data length is 10 while target length is 11"
     ]
    }
   ],
   "source": [
    "in_seq1 = np.array([10, 20, 30, 40, 50, 60, 70, 80, 90, 100])\n",
    "in_seq2 = np.array([15, 25, 35, 45, 55, 65, 75, 85, 95, 105])\n",
    "out_seq = np.array([25, 45, 65, 85, 105, 125, 145, 165, 185, 205])\n",
    "# reshape series\n",
    "in_seq1 = in_seq1.reshape((len(in_seq1), 1))\n",
    "in_seq2 = in_seq2.reshape((len(in_seq2), 1))\n",
    "out_seq = out_seq.reshape((len(out_seq), 1))\n",
    "# horizontally stack columns\n",
    "dataset = hstack((in_seq1, in_seq2))\n",
    "# shift the target sample by one step\n",
    "out_seq = insert(out_seq, 0, 0)\n",
    "# define generator\n",
    "n_input = 1\n",
    "generator = TimeseriesGenerator(dataset, out_seq, length=n_input, batch_size=1)\n",
    "# print each sample\n",
    "for i in range(len(generator)):\n",
    " x, y = generator[i]\n",
    " print('%s => %s' % (x, y))"
   ]
  }
 ],
 "metadata": {
  "kernelspec": {
   "display_name": "tf",
   "language": "python",
   "name": "python3"
  },
  "language_info": {
   "codemirror_mode": {
    "name": "ipython",
    "version": 3
   },
   "file_extension": ".py",
   "mimetype": "text/x-python",
   "name": "python",
   "nbconvert_exporter": "python",
   "pygments_lexer": "ipython3",
   "version": "3.9.16"
  },
  "orig_nbformat": 4,
  "vscode": {
   "interpreter": {
    "hash": "4dd2e1c2adfff80baa2595dc7f81a90ed786f1601bc796534496cd2b81edc07b"
   }
  }
 },
 "nbformat": 4,
 "nbformat_minor": 2
}
